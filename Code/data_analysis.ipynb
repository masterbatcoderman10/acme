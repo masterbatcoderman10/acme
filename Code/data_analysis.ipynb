{
 "cells": [
  {
   "cell_type": "code",
   "execution_count": 150,
   "metadata": {},
   "outputs": [],
   "source": [
    "import numpy as np\n",
    "import matplotlib.pyplot as plt\n",
    "import seaborn as sns\n",
    "import pandas as pd\n",
    "import math\n",
    "from sklearn.feature_selection import mutual_info_classif\n",
    "from sklearn.preprocessing import LabelEncoder\n",
    "from sklearn.compose import ColumnTransformer"
   ]
  },
  {
   "attachments": {},
   "cell_type": "markdown",
   "metadata": {},
   "source": [
    "## Exploratory analysis"
   ]
  },
  {
   "cell_type": "code",
   "execution_count": 151,
   "metadata": {},
   "outputs": [],
   "source": [
    "data = pd.read_csv(\"../Data/ACME-HappinessSurvey2020.csv\")"
   ]
  },
  {
   "attachments": {},
   "cell_type": "markdown",
   "metadata": {},
   "source": [
    "- X1: order delivered on time\n",
    "- X2: contents were as expected\n",
    "- X3: I ordered everything I wanted to order\n",
    "- X4: I paid a good price\n",
    "- X5: I am satisfied with the courier\n",
    "- X6: the app is easy to order"
   ]
  },
  {
   "cell_type": "code",
   "execution_count": 152,
   "metadata": {},
   "outputs": [],
   "source": [
    "feature_names = [\n",
    "    \"order delivered on time\",\n",
    "    \"contents were as expected\",\n",
    "    \"I ordered everything I wanted to order\",\n",
    "    \"I paid a good price\",\n",
    "    \"I am satisfied with the courier\",\n",
    "    \"the app is easy to order\"\n",
    "]"
   ]
  },
  {
   "cell_type": "code",
   "execution_count": 153,
   "metadata": {},
   "outputs": [
    {
     "data": {
      "text/html": [
       "<div>\n",
       "<style scoped>\n",
       "    .dataframe tbody tr th:only-of-type {\n",
       "        vertical-align: middle;\n",
       "    }\n",
       "\n",
       "    .dataframe tbody tr th {\n",
       "        vertical-align: top;\n",
       "    }\n",
       "\n",
       "    .dataframe thead th {\n",
       "        text-align: right;\n",
       "    }\n",
       "</style>\n",
       "<table border=\"1\" class=\"dataframe\">\n",
       "  <thead>\n",
       "    <tr style=\"text-align: right;\">\n",
       "      <th></th>\n",
       "      <th>Y</th>\n",
       "      <th>X1</th>\n",
       "      <th>X2</th>\n",
       "      <th>X3</th>\n",
       "      <th>X4</th>\n",
       "      <th>X5</th>\n",
       "      <th>X6</th>\n",
       "    </tr>\n",
       "  </thead>\n",
       "  <tbody>\n",
       "    <tr>\n",
       "      <th>0</th>\n",
       "      <td>0</td>\n",
       "      <td>3</td>\n",
       "      <td>3</td>\n",
       "      <td>3</td>\n",
       "      <td>4</td>\n",
       "      <td>2</td>\n",
       "      <td>4</td>\n",
       "    </tr>\n",
       "    <tr>\n",
       "      <th>1</th>\n",
       "      <td>0</td>\n",
       "      <td>3</td>\n",
       "      <td>2</td>\n",
       "      <td>3</td>\n",
       "      <td>5</td>\n",
       "      <td>4</td>\n",
       "      <td>3</td>\n",
       "    </tr>\n",
       "    <tr>\n",
       "      <th>2</th>\n",
       "      <td>1</td>\n",
       "      <td>5</td>\n",
       "      <td>3</td>\n",
       "      <td>3</td>\n",
       "      <td>3</td>\n",
       "      <td>3</td>\n",
       "      <td>5</td>\n",
       "    </tr>\n",
       "    <tr>\n",
       "      <th>3</th>\n",
       "      <td>0</td>\n",
       "      <td>5</td>\n",
       "      <td>4</td>\n",
       "      <td>3</td>\n",
       "      <td>3</td>\n",
       "      <td>3</td>\n",
       "      <td>5</td>\n",
       "    </tr>\n",
       "    <tr>\n",
       "      <th>4</th>\n",
       "      <td>0</td>\n",
       "      <td>5</td>\n",
       "      <td>4</td>\n",
       "      <td>3</td>\n",
       "      <td>3</td>\n",
       "      <td>3</td>\n",
       "      <td>5</td>\n",
       "    </tr>\n",
       "  </tbody>\n",
       "</table>\n",
       "</div>"
      ],
      "text/plain": [
       "   Y  X1  X2  X3  X4  X5  X6\n",
       "0  0   3   3   3   4   2   4\n",
       "1  0   3   2   3   5   4   3\n",
       "2  1   5   3   3   3   3   5\n",
       "3  0   5   4   3   3   3   5\n",
       "4  0   5   4   3   3   3   5"
      ]
     },
     "execution_count": 153,
     "metadata": {},
     "output_type": "execute_result"
    }
   ],
   "source": [
    "data.head()"
   ]
  },
  {
   "cell_type": "code",
   "execution_count": 154,
   "metadata": {},
   "outputs": [
    {
     "data": {
      "text/plain": [
       "126"
      ]
     },
     "execution_count": 154,
     "metadata": {},
     "output_type": "execute_result"
    }
   ],
   "source": [
    "data[\"Y\"].count()"
   ]
  },
  {
   "cell_type": "code",
   "execution_count": 155,
   "metadata": {},
   "outputs": [
    {
     "data": {
      "text/plain": [
       "1    69\n",
       "0    57\n",
       "Name: Y, dtype: int64"
      ]
     },
     "execution_count": 155,
     "metadata": {},
     "output_type": "execute_result"
    }
   ],
   "source": [
    "data[\"Y\"].value_counts()"
   ]
  },
  {
   "cell_type": "code",
   "execution_count": 156,
   "metadata": {},
   "outputs": [
    {
     "data": {
      "text/plain": [
       "0"
      ]
     },
     "execution_count": 156,
     "metadata": {},
     "output_type": "execute_result"
    }
   ],
   "source": [
    "missing_cols = [col for col in data.columns if data[col].isnull().any()]\n",
    "len(missing_cols)"
   ]
  },
  {
   "attachments": {},
   "cell_type": "markdown",
   "metadata": {},
   "source": [
    "The exploratory analysis concluded that the target variable is nearly evenly split between the two classes; there are only 126 rows; there is no missing data.\n",
    "\n",
    "All the features are ordinal!"
   ]
  },
  {
   "attachments": {},
   "cell_type": "markdown",
   "metadata": {},
   "source": [
    "## Mutual Information"
   ]
  },
  {
   "cell_type": "code",
   "execution_count": 302,
   "metadata": {},
   "outputs": [],
   "source": [
    "y = data[\"Y\"]"
   ]
  },
  {
   "cell_type": "code",
   "execution_count": 316,
   "metadata": {},
   "outputs": [],
   "source": [
    "feature_names = list(data.columns)\n",
    "feature_names.remove(\"Y\")\n",
    "X = data[feature_names]\n"
   ]
  },
  {
   "attachments": {},
   "cell_type": "markdown",
   "metadata": {},
   "source": [
    "### Implementation"
   ]
  },
  {
   "cell_type": "code",
   "execution_count": 319,
   "metadata": {},
   "outputs": [],
   "source": [
    "ct = pd.crosstab(data[\"Y\"], data[\"X1\"])\n",
    "jp = ct.to_numpy()\n",
    "jp = jp / len(X)"
   ]
  },
  {
   "cell_type": "code",
   "execution_count": 305,
   "metadata": {},
   "outputs": [
    {
     "data": {
      "text/plain": [
       "array([[0.        , 0.00793651, 0.11111111, 0.15873016, 0.17460317],\n",
       "       [0.00793651, 0.        , 0.04761905, 0.21428571, 0.27777778]])"
      ]
     },
     "execution_count": 305,
     "metadata": {},
     "output_type": "execute_result"
    }
   ],
   "source": [
    "jp"
   ]
  },
  {
   "cell_type": "code",
   "execution_count": 306,
   "metadata": {},
   "outputs": [],
   "source": [
    "def joint_entropy(x, y, p):\n",
    "    sum = 0\n",
    "    for x in range(x):\n",
    "        for y in range(y):\n",
    "            if p[x][y] == 0:\n",
    "                \n",
    "                continue\n",
    "            sum += -(p[x][y] * np.log2((p[x][y])))\n",
    "    \n",
    "    return sum"
   ]
  },
  {
   "cell_type": "code",
   "execution_count": 309,
   "metadata": {},
   "outputs": [],
   "source": [
    "def entropy(x):\n",
    "    \n",
    "    sum = 0\n",
    "    for i in x:\n",
    "        sum -= i * np.log2(i)\n",
    "    return sum"
   ]
  },
  {
   "cell_type": "code",
   "execution_count": 307,
   "metadata": {},
   "outputs": [],
   "source": [
    "h_x_y = joint_entropy(jp.shape[0], jp.shape[1], jp)"
   ]
  },
  {
   "cell_type": "code",
   "execution_count": 308,
   "metadata": {},
   "outputs": [],
   "source": [
    "xpmf = jp.sum(axis=0)\n",
    "ypmf = jp.sum(axis=1)"
   ]
  },
  {
   "cell_type": "code",
   "execution_count": 310,
   "metadata": {},
   "outputs": [],
   "source": [
    "h_x = entropy(xpmf)\n",
    "h_y = entropy(ypmf)"
   ]
  },
  {
   "cell_type": "code",
   "execution_count": 311,
   "metadata": {},
   "outputs": [],
   "source": [
    "cond_x_y = h_x_y - h_y\n",
    "cond_y_x = h_x_y - h_x"
   ]
  },
  {
   "cell_type": "code",
   "execution_count": 312,
   "metadata": {},
   "outputs": [],
   "source": [
    "i_x_y = h_x - cond_x_y"
   ]
  },
  {
   "cell_type": "code",
   "execution_count": 313,
   "metadata": {},
   "outputs": [
    {
     "data": {
      "text/plain": [
       "0.5646106714581822"
      ]
     },
     "execution_count": 313,
     "metadata": {},
     "output_type": "execute_result"
    }
   ],
   "source": [
    "i_x_y"
   ]
  },
  {
   "cell_type": "code",
   "execution_count": 314,
   "metadata": {},
   "outputs": [],
   "source": [
    "i_x_y = h_y - cond_y_x"
   ]
  },
  {
   "cell_type": "code",
   "execution_count": 315,
   "metadata": {},
   "outputs": [
    {
     "data": {
      "text/plain": [
       "0.5646106714581822"
      ]
     },
     "execution_count": 315,
     "metadata": {},
     "output_type": "execute_result"
    }
   ],
   "source": [
    "i_x_y"
   ]
  },
  {
   "cell_type": "code",
   "execution_count": 197,
   "metadata": {},
   "outputs": [
    {
     "name": "stdout",
     "output_type": "stream",
     "text": [
      "Mutual information is : 0.04970420601280024\n",
      "Entropy : -1.0362422547383536\n",
      "Entropy : -0.6886051523183013\n"
     ]
    }
   ],
   "source": [
    "ct = pd.crosstab(data[\"Y\"], data[\"X1\"])\n",
    "jp = ct.to_numpy()\n",
    "\n",
    "yn = jp.shape[0]\n",
    "xn = jp.shape[1]\n",
    "\n",
    "ys = jp.sum(1)\n",
    "xs = jp.sum(0)\n",
    "\n",
    "total = 126\n",
    "mi = 0\n",
    "h_x = 0\n",
    "h_y = 0\n",
    "\n",
    "for y in range(0, yn):\n",
    "    for x in range(0, xn):\n",
    "\n",
    "        p_x = xs[x] / total\n",
    "        p_y = ys[y] / total\n",
    "        p_xy = jp[y, x] / total\n",
    "\n",
    "        fraction = p_xy / ((p_x * p_y) + 10e-8)\n",
    "\n",
    "        if fraction == 0.0:\n",
    "            continue\n",
    "    \n",
    "        mi += p_xy * np.log(fraction)\n",
    "\n",
    "print(f\"Mutual information is : {mi}\")\n",
    "\n",
    "for x in range(0, xn):\n",
    "    p_x = xs[x] / total\n",
    "    h_x += p_x * np.log(p_x)\n",
    "\n",
    "print(f\"Entropy : {h_x}\")\n",
    "\n",
    "for y in range(0, yn):\n",
    "\n",
    "    p_y = ys[y] / total\n",
    "    h_y += p_y * np.log(p_y)\n",
    "\n",
    "print(f\"Entropy : {h_y}\")"
   ]
  },
  {
   "cell_type": "code",
   "execution_count": 188,
   "metadata": {},
   "outputs": [
    {
     "data": {
      "text/plain": [
       "array([ 7, 14, 55, 33, 17])"
      ]
     },
     "execution_count": 188,
     "metadata": {},
     "output_type": "execute_result"
    }
   ],
   "source": [
    "jp.sum(0)"
   ]
  },
  {
   "cell_type": "code",
   "execution_count": 194,
   "metadata": {},
   "outputs": [
    {
     "data": {
      "text/plain": [
       "array([[ 1, 12, 24, 20],\n",
       "       [ 0,  8, 16, 45]])"
      ]
     },
     "execution_count": 194,
     "metadata": {},
     "output_type": "execute_result"
    }
   ],
   "source": [
    "jp"
   ]
  },
  {
   "attachments": {},
   "cell_type": "markdown",
   "metadata": {},
   "source": [
    "### Feature Selection"
   ]
  },
  {
   "cell_type": "code",
   "execution_count": 342,
   "metadata": {},
   "outputs": [],
   "source": [
    "import numpy as np\n",
    "import pandas as pd\n",
    "\n",
    "\n",
    "class CategoricalMI:\n",
    "\n",
    "    def __init__(self, data, target_name, feature_names):\n",
    "\n",
    "        self.y = data[target_name]\n",
    "        self.feature_names = feature_names\n",
    "        self.X = data[feature_names]\n",
    "        self.X = self.X.astype(str)\n",
    "        self.y = self.y.astype(str)\n",
    "        self.nrows = len(self.X)\n",
    "        self.mis = {}\n",
    "\n",
    "\n",
    "    def joint_entropy(self, x, y, p):\n",
    "        sum = 0\n",
    "        for x in range(x):\n",
    "            for y in range(y):\n",
    "                if p[x][y] == 0:\n",
    "\n",
    "                    continue\n",
    "                sum += -(p[x][y] * np.log2((p[x][y])))\n",
    "\n",
    "        return sum\n",
    "\n",
    "    def entropy(self, x):\n",
    "\n",
    "        sum = 0\n",
    "        for i in x:\n",
    "            sum -= i * np.log2(i)\n",
    "        return sum\n",
    "\n",
    "    def creat_joint_pmt(self, fname):\n",
    "\n",
    "        ct = pd.crosstab(self.y, self.X[fname])\n",
    "        jp = np.array(ct)\n",
    "        jp = jp / self.nrows\n",
    "\n",
    "        return jp\n",
    "\n",
    "    def run(self):\n",
    "\n",
    "        mi_scores = []\n",
    "\n",
    "        for fname in self.feature_names:\n",
    "\n",
    "            jpmf = self.creat_joint_pmt(fname)\n",
    "            h_x_y = self.joint_entropy(jpmf.shape[0], jpmf.shape[1], jpmf)\n",
    "\n",
    "            xpmf = jpmf.sum(axis=0)\n",
    "            ypmf = jpmf.sum(axis=1)\n",
    "\n",
    "            h_x = self.entropy(xpmf)\n",
    "            h_y = self.entropy(ypmf)\n",
    "\n",
    "            cond_x_y = h_x_y - h_y\n",
    "            cond_y_x = h_x_y - h_x\n",
    "\n",
    "            i_x_y = h_x - cond_x_y\n",
    "\n",
    "            mi_scores.append(i_x_y)\n",
    "        \n",
    "        mi_scores = sorted(zip(mi_scores, self.feature_names), key=lambda x : x[0], reverse=True)\n",
    "        self.mis = {fn: mi for mi, fn in mi_scores}\n",
    "\n",
    "    def report(self):\n",
    "\n",
    "        for fname, mi in self.mis.items():\n",
    "            \n",
    "            print(f\"{fname} mutual information with target : {mi}\")\n"
   ]
  },
  {
   "cell_type": "code",
   "execution_count": 343,
   "metadata": {},
   "outputs": [
    {
     "data": {
      "text/plain": [
       "['X1', 'X2', 'X3', 'X4', 'X5', 'X6']"
      ]
     },
     "execution_count": 343,
     "metadata": {},
     "output_type": "execute_result"
    }
   ],
   "source": [
    "feature_names"
   ]
  },
  {
   "cell_type": "code",
   "execution_count": 344,
   "metadata": {},
   "outputs": [],
   "source": [
    "cat_mi = CategoricalMI(data, \"Y\", feature_names)"
   ]
  },
  {
   "cell_type": "code",
   "execution_count": 345,
   "metadata": {},
   "outputs": [],
   "source": [
    "cat_mi.run()"
   ]
  },
  {
   "cell_type": "code",
   "execution_count": 346,
   "metadata": {},
   "outputs": [
    {
     "name": "stdout",
     "output_type": "stream",
     "text": [
      "X1 mutual information with target : 0.6022187855318999\n",
      "X6 mutual information with target : 0.5646106714581822\n",
      "X5 mutual information with target : 0.4794815437913742\n",
      "X4 mutual information with target : 0.39708921405515984\n",
      "X3 mutual information with target : 0.3322625056186468\n",
      "X2 mutual information with target : 0.17166808026614677\n"
     ]
    }
   ],
   "source": [
    "cat_mi.report()"
   ]
  },
  {
   "cell_type": "code",
   "execution_count": null,
   "metadata": {},
   "outputs": [],
   "source": []
  }
 ],
 "metadata": {
  "kernelspec": {
   "display_name": "base",
   "language": "python",
   "name": "python3"
  },
  "language_info": {
   "codemirror_mode": {
    "name": "ipython",
    "version": 3
   },
   "file_extension": ".py",
   "mimetype": "text/x-python",
   "name": "python",
   "nbconvert_exporter": "python",
   "pygments_lexer": "ipython3",
   "version": "3.8.5"
  },
  "orig_nbformat": 4
 },
 "nbformat": 4,
 "nbformat_minor": 2
}
